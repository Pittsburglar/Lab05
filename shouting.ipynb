{
 "cells": [
  {
   "cell_type": "code",
   "execution_count": 10,
   "metadata": {},
   "outputs": [
    {
     "name": "stdin",
     "output_type": "stream",
     "text": [
      "I am going to shout your name very loudly. Tell me your name bill\n"
     ]
    },
    {
     "name": "stdout",
     "output_type": "stream",
     "text": [
      "BILL\n"
     ]
    },
    {
     "name": "stdin",
     "output_type": "stream",
     "text": [
      "Ok now give me a number. Any number 30\n"
     ]
    },
    {
     "name": "stdout",
     "output_type": "stream",
     "text": [
      "BILL \n",
      "BILL \n",
      "BILL \n",
      "BILL \n",
      "BILL \n",
      "BILL \n",
      "BILL \n",
      "BILL \n",
      "BILL \n",
      "BILL \n",
      "BILL \n",
      "BILL \n",
      "BILL \n",
      "BILL \n",
      "BILL \n",
      "BILL \n",
      "BILL \n",
      "BILL \n",
      "BILL \n",
      "BILL \n",
      "BILL \n",
      "BILL \n",
      "BILL \n",
      "BILL \n",
      "BILL \n",
      "BILL \n",
      "BILL \n",
      "BILL \n",
      "BILL \n",
      "BILL \n",
      "Ok thanks bye\n"
     ]
    }
   ],
   "source": [
    "name = input(\"I am going to shout your name very loudly. Tell me your name\")\n",
    "print(name.upper())\n",
    "num = input(\"Ok now give me a number. Any number\")\n",
    "for i in range(int(num)):\n",
    "    print(name.upper() + \" \")\n",
    "    \n",
    "print(\"Ok thanks bye\")"
   ]
  },
  {
   "cell_type": "code",
   "execution_count": null,
   "metadata": {},
   "outputs": [],
   "source": []
  }
 ],
 "metadata": {
  "kernelspec": {
   "display_name": "Python 3",
   "language": "python",
   "name": "python3"
  },
  "language_info": {
   "codemirror_mode": {
    "name": "ipython",
    "version": 3
   },
   "file_extension": ".py",
   "mimetype": "text/x-python",
   "name": "python",
   "nbconvert_exporter": "python",
   "pygments_lexer": "ipython3",
   "version": "3.8.3"
  }
 },
 "nbformat": 4,
 "nbformat_minor": 4
}
