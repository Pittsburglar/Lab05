{
 "cells": [
  {
   "cell_type": "code",
   "execution_count": 6,
   "metadata": {},
   "outputs": [
    {
     "name": "stdout",
     "output_type": "stream",
     "text": [
      "Welcome to the magic calculator!\n"
     ]
    },
    {
     "name": "stdin",
     "output_type": "stream",
     "text": [
      "Enter the first number 3\n",
      "Enter the second number 4\n",
      "enter an operator (+ - * /) 7\n"
     ]
    },
    {
     "name": "stdout",
     "output_type": "stream",
     "text": [
      "not a valid operator\n"
     ]
    },
    {
     "name": "stdin",
     "output_type": "stream",
     "text": [
      "enter an operator (+ - * /) 3\n"
     ]
    },
    {
     "name": "stdout",
     "output_type": "stream",
     "text": [
      "not a valid operator\n"
     ]
    },
    {
     "name": "stdin",
     "output_type": "stream",
     "text": [
      "enter an operator (+ - * /) +\n"
     ]
    },
    {
     "name": "stdout",
     "output_type": "stream",
     "text": [
      "7.0\n"
     ]
    }
   ],
   "source": [
    "print(\"Welcome to the magic calculator!\")\n",
    "#Program takes two inputs, which are the numbers that will be used in the calculation\n",
    "num1 = input(\"Enter the first number\")\n",
    "num2 = input(\"Enter the second number\")\n",
    "\n",
    "#setting up a loop that will only end once the user enters a valid operator\n",
    "x = 0\n",
    "while(x == 0):\n",
    "    #asks the user for an operation\n",
    "    op = input(\"enter an operator (+ - * /)\")\n",
    "\n",
    "    #addition\n",
    "    if(op == \"+\"):\n",
    "        print(float(num1)+float(num2))\n",
    "        x = 1 #this will force the loop to end\n",
    "    #subtraction\n",
    "    elif(op == \"-\"):\n",
    "        print(float(num1)-float(num2))\n",
    "        x = 1\n",
    "    #multiplication\n",
    "    elif(op == \"*\"):\n",
    "        print(float(num1)*float(num2))\n",
    "        x = 1\n",
    "    #division\n",
    "    elif(op == \"/\"):\n",
    "        print(float(num1)/float(num2))\n",
    "        x = 1\n",
    "    #if the user does not enter a valid operator, the line below will print and the loop will continue\n",
    "    else:\n",
    "        print(\"not a valid operator\")\n"
   ]
  },
  {
   "cell_type": "code",
   "execution_count": null,
   "metadata": {},
   "outputs": [],
   "source": []
  }
 ],
 "metadata": {
  "kernelspec": {
   "display_name": "Python 3",
   "language": "python",
   "name": "python3"
  },
  "language_info": {
   "codemirror_mode": {
    "name": "ipython",
    "version": 3
   },
   "file_extension": ".py",
   "mimetype": "text/x-python",
   "name": "python",
   "nbconvert_exporter": "python",
   "pygments_lexer": "ipython3",
   "version": "3.8.3"
  }
 },
 "nbformat": 4,
 "nbformat_minor": 4
}
